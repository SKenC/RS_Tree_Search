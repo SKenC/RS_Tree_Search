{
 "cells": [
  {
   "cell_type": "code",
   "execution_count": 10,
   "metadata": {},
   "outputs": [],
   "source": [
    "import numpy as np\n",
    "import utils\n",
    "from game_tree import GameTree\n",
    "from mcts import mcts\n",
    "import mini_max\n",
    "import random\n",
    "import networkx as nx\n",
    "import matplotlib.pyplot as plt\n",
    "from game_tree import GameTree\n",
    "from tqdm import tqdm_notebook as tqdm"
   ]
  },
  {
   "cell_type": "code",
   "execution_count": 13,
   "metadata": {},
   "outputs": [],
   "source": [
    "def build_kocsis_tree(d, bf):\n",
    "    \"\"\" Kocsisの論文にある抽象木を作成\n",
    "    :param d: 深さ\n",
    "    :param bf: 子ノードの数\n",
    "    :return: 深さd,子ノードbfの平衡木\n",
    "    \"\"\"\n",
    "    tree = nx.balanced_tree(r=bf, h=d, create_using=nx.DiGraph())\n",
    "    node_num = nx.number_of_nodes(tree)\n",
    "\n",
    "    #葉のvalue属性に乱数を設定\n",
    "    leaf_st = node_num - bf**d  #葉ノードのスタート\n",
    "    children = []\n",
    "    depth = 0\n",
    "    parents = [0]\n",
    "    tree.nodes[0]['value'] = 0\n",
    "\n",
    "    while depth <= d:\n",
    "        for p in parents:\n",
    "            sons = list(tree.successors(p))\n",
    "            for c in sons:\n",
    "                if (depth%2) == 0:\n",
    "                    tree.nodes[c]['value'] = tree.nodes[p]['value'] + random.randint(-127, 0)\n",
    "                else:\n",
    "                    tree.nodes[c]['value'] = tree.nodes[p]['value'] + random.randint(0, 127)\n",
    "\n",
    "            children = children + sons\n",
    "\n",
    "        parents = children\n",
    "\n",
    "        depth += 1\n",
    "\n",
    "    for leaf in children:\n",
    "        if tree.nodes[leaf]['value'] > 0:\n",
    "            tree.nodes[leaf]['reward'] = 1\n",
    "        else:\n",
    "            tree.nodes[leaf]['reward'] = 0\n",
    "\n",
    "    # 展開フラグを全ノードに追加\n",
    "    nx.set_node_attributes(tree, False, 'expanded')\n",
    "    # 試行回数を全ノードに追加\n",
    "    nx.set_node_attributes(tree, 1, 'n')\n",
    "    # 報酬和を全ノードに追加\n",
    "    nx.set_node_attributes(tree, 0., 'q')\n",
    "    # 価値を全ノードに追加\n",
    "    nx.set_node_attributes(tree, 0., 'ucb')\n",
    "\n",
    "    # 葉フラグを全ノードに追加(以下で葉にtrueを)\n",
    "    nx.set_node_attributes(tree, False, 'is_terminal')\n",
    "    for i in range(bf ** d):\n",
    "        tree.nodes[leaf_st + i]['is_terminal'] = True\n",
    "\n",
    "    return tree"
   ]
  },
  {
   "cell_type": "code",
   "execution_count": null,
   "metadata": {},
   "outputs": [],
   "source": [
    "d = 5\n",
    "bf = 2\n",
    "data_size = 100\n",
    "rollout_num = 500\n",
    "\n",
    "tree = []\n",
    "for i in tqdm(range(data_size)):\n",
    "    #self.tree[i] = self.build_oyo_tree(d=d, bf=bf)\n",
    "    tree.append(build_kocsis_tree(d=d, bf=bf))\n",
    "\n",
    "#data_set = GameTree(probability=[0.8, 0.6], d=d, bf=bf, threshold=128, data_size=100)\n",
    "#data_set = GameTree(probability=[0.8, 0.6], d=d, bf=bf, data_size=data_size, tree_name='kocsis')"
   ]
  },
  {
   "cell_type": "code",
   "execution_count": null,
   "metadata": {},
   "outputs": [],
   "source": [
    "results = [[] for i in range(data_size)]\n",
    "accuracy = [[] for i in range(data_size)]\n",
    "for i in tqdm(range(data_size)):\n",
    "    ans_path = mini_max.get_minimax_path(tree=tree[i], d=d, bf=bf, draw=False)\n",
    "    results[i], accuracy[i] = mcts(tree=tree[i], n=rollout_num, ans_path=ans_path, algo_name='UCT')\n",
    "\n",
    "means = np.zeros(rollout_num)\n",
    "accuracy = np.array(accuracy)\n",
    "for i in range(rollout_num):\n",
    "    means[i] = np.mean(accuracy[:, i])\n",
    "\n",
    "#print(means)"
   ]
  },
  {
   "cell_type": "code",
   "execution_count": null,
   "metadata": {},
   "outputs": [],
   "source": [
    "rs_accuracy = [[] for i in range(data_size)]\n",
    "for i in tqdm(range(data_size)):\n",
    "    ans_path = mini_max.get_minimax_path(tree=tree[i], d=d, bf=bf, draw=False)\n",
    "    _, rs_accuracy[i] = mcts(tree=tree[i], n=rollout_num, ans_path=ans_path, algo_name='UCT')\n",
    "\n",
    "rs_means = np.zeros(rollout_num)\n",
    "rs_accuracy = np.array(rs_accuracy)\n",
    "for i in range(rollout_num):\n",
    "    rs_means[i] = np.mean(rs_accuracy[:, i])\n",
    "\n",
    "#print(means)"
   ]
  },
  {
   "cell_type": "code",
   "execution_count": null,
   "metadata": {},
   "outputs": [],
   "source": [
    "plt.plot(np.arange(len(means)), means )\n",
    "plt.plot(np.arange(len(means)), rs_means )"
   ]
  },
  {
   "cell_type": "code",
   "execution_count": null,
   "metadata": {},
   "outputs": [],
   "source": []
  },
  {
   "cell_type": "code",
   "execution_count": null,
   "metadata": {},
   "outputs": [],
   "source": []
  }
 ],
 "metadata": {
  "kernelspec": {
   "display_name": "Python 2",
   "language": "python",
   "name": "python2"
  },
  "language_info": {
   "codemirror_mode": {
    "name": "ipython",
    "version": 2
   },
   "file_extension": ".py",
   "mimetype": "text/x-python",
   "name": "python",
   "nbconvert_exporter": "python",
   "pygments_lexer": "ipython2",
   "version": "2.7.13"
  }
 },
 "nbformat": 4,
 "nbformat_minor": 2
}
